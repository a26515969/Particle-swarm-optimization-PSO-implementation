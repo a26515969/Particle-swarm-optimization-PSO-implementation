{
 "cells": [
  {
   "cell_type": "code",
   "execution_count": 2,
   "metadata": {},
   "outputs": [],
   "source": [
    "import numpy as np\n",
    "import math\n",
    "import random\n",
    "import heapq\n",
    "import matplotlib.pyplot as plt"
   ]
  },
  {
   "cell_type": "code",
   "execution_count": 3,
   "metadata": {},
   "outputs": [
    {
     "name": "stdout",
     "output_type": "stream",
     "text": [
      "[[2.99909, 1.29776], [3.19064, 1.51626], [2.74423, 0.76923], [3.39132, 0.53178], [3.83196, -0.41265]]\n"
     ]
    }
   ],
   "source": [
    "\n",
    "qty = 5  # or however many points you want(群體規模)\n",
    "\n",
    "deltas = set()\n",
    "randPoints = []\n",
    "excluded = set()\n",
    "i = 0\n",
    "while i<qty:\n",
    "    x = random.uniform(2,4)\n",
    "    x = round(x,5)\n",
    "    y = random.uniform(-1,2)\n",
    "    y = round(y,5)\n",
    "    if x+y<3: continue\n",
    "    randPoints.append([x,y])\n",
    "    i += 1\n",
    "    excluded.update((x+dx, y+dy) for (dx,dy) in deltas)\n",
    "    \n",
    "print (randPoints)"
   ]
  },
  {
   "cell_type": "code",
   "execution_count": 4,
   "metadata": {},
   "outputs": [],
   "source": [
    "Dim=2         #dimension\n",
    "pop_size=20   #population_size\n",
    "w_it_max=0.7 #inertia weight max \n",
    "w_it_min=0.3  #inertia weight min \n",
    "c1=2.05         #acceleration factor\n",
    "c2=2.05         #acceleration factor\n",
    "max_iter=300  #iterations\n",
    "gbest =float('inf') \n",
    "def fitness(randPoints):#將x,y的list放進去可以得到全部元素的fitness\n",
    "    a = []\n",
    "    for i in randPoints:       \n",
    "        gg=(i[1]- 1)**4-(math.sin(5*math.pi*(i[0]**(3/4)-0.1))**2) \n",
    "        a.append(gg)\n",
    "    return a\n",
    "\n",
    "def pbest(fit):#將fitness 的list 放入可以得到區域最佳解\n",
    "    a = fitness(randPoints)\n",
    "    b = np.argmin(a)\n",
    "    c = randPoints[b]\n",
    "    return [min(a),c]\n",
    "\n",
    "\n",
    "#def vel(randPoints):#生出該點xy的速度\n",
    "    #all_vel = []\n",
    "    #for i in randPoints:\n",
    "        #vel1=w*i[0]+c1*np.random.random()*(small-i[0])+c2*np.random.random()*(gbest-i[0])\n",
    "        #vel2=w*i[1]+c1*np.random.random()*(small-i[1])+c2*np.random.random()*(gbest-i[1])\n",
    "        #vel = [vel1,vel2]\n",
    "        #all_vel.append(vel)\n",
    "    #return(all_vel)\n",
    "def vel(i,w,gbest):#生出該點xy的速度\n",
    "    vel1=w*i[0]+c1*np.random.random()*(pbest(fit)[0]-i[0])+c2*np.random.random()*(gbest-i[0])\n",
    "    vel2=w*i[1]+c1*np.random.random()*(pbest(fit)[0]-i[1])+c2*np.random.random()*(gbest-i[1])\n",
    "    vel = [vel1,vel2]\n",
    "    \n",
    "    \n",
    "    return(vel)\n",
    "def new_location(randPoints):#舊位子加上向量變成新位子\n",
    "    new = []\n",
    "    for i in randPoints:\n",
    "        \n",
    "        a =  i[0]+vel(i,w,gbest)[0]\n",
    "        b =  i[1]+vel(i,w,gbest)[1]\n",
    "        c = [a,b]\n",
    "        new.append(c)\n",
    "    return new\n"
   ]
  },
  {
   "cell_type": "code",
   "execution_count": 5,
   "metadata": {
    "scrolled": true
   },
   "outputs": [
    {
     "name": "stdout",
     "output_type": "stream",
     "text": [
      "-0.9998273608942537\n",
      "[3.2147556, 0.9562611]\n"
     ]
    }
   ],
   "source": [
    "btl = []\n",
    "gtl = []\n",
    "max_iter= 1000\n",
    "Dim=2         #dimension\n",
    "pop_size=20   #population_size\n",
    "w_it_max=1  #inertia weight max \n",
    "w_it_min=0.3  #inertia weight min \n",
    "c1=2.05          #acceleration factor\n",
    "        \n",
    "c2=2.05          #acceleration factor\n",
    "\n",
    "gbest =10000\n",
    "t = 0 #iteration time\n",
    "\n",
    "\n",
    "while t< max_iter:\n",
    "    \n",
    "    w=w_it_max-(t/max_iter)*(w_it_max-w_it_min)\n",
    "    \n",
    "    #將list的數字限制再五位數內\n",
    "    for i in range(5):\n",
    "        for j in range(2):\n",
    "            f = randPoints[i][j] \n",
    "            f = round(f,7)\n",
    "            randPoints[i][j] = f\n",
    "          \n",
    "    \n",
    "    ##檢測list是否有在範圍內，如果超出即回彈\n",
    "    for i in range(5):       \n",
    "        while 2>=randPoints[i][0]or randPoints[i][0] >=4:\n",
    "            \n",
    "            if randPoints[i][0] <2:\n",
    "                randPoints[i][0]  = 2+(2-randPoints[i][0])\n",
    "                \n",
    "            else:\n",
    "                randPoints[i][0]  = 4-(randPoints[i][0]-4)\n",
    "                \n",
    "        if randPoints[i][0]+randPoints[i][1]<3:\n",
    "            randPoints[i][1] = 3-randPoints[i][0]       \n",
    "    #將list的數字限制再五位數內\n",
    "    for i in range(5):\n",
    "        for j in range(2):\n",
    "            f = randPoints[i][j] \n",
    "            f = round(f,7)\n",
    "            randPoints[i][j] = f\n",
    "    \n",
    "    fit = fitness(randPoints)#將x,y的list放進去可以得到全部元素的fitness\n",
    "    nowgood = pbest(fit)[0]\n",
    "    btl.append(nowgood)\n",
    "    \n",
    "    #this_time_good = pbest(fit)[0]#將fitness 的list 放入可以得到區域最佳解,[0]是fitness,[1]是座標\n",
    "    allgood = min(gbest,pbest(fit)[0])\n",
    "    gtl.append(allgood)\n",
    "    \n",
    "    if pbest(fit)[0]<gbest:\n",
    "        gbest = min(gbest,pbest(fit)[0])\n",
    "        allgbest = pbest(fit)[1]\n",
    "        for i in randPoints:\n",
    "            vel1=w*i[0]+c1*np.random.random()*(pbest(fit)[0]-i[0])+c2*np.random.random()*(gbest-i[0])\n",
    "            vel2=w*i[1]+c1*np.random.random()*(pbest(fit)[0]-i[1])+c2*np.random.random()*(gbest-i[1])\n",
    "            bestvel = [vel1,vel2]\n",
    "        \n",
    "    g = new_location(randPoints)\n",
    "    randPoints =g \n",
    "    \n",
    "    t +=1\n",
    "print(gbest)\n",
    "print(allgbest)"
   ]
  },
  {
   "cell_type": "code",
   "execution_count": 7,
   "metadata": {},
   "outputs": [
    {
     "data": {
      "image/png": "[encoded data removed]",
      "text/plain": [
       "<Figure size 432x288 with 1 Axes>"
      ]
     },
     "metadata": {
      "needs_background": "light"
     },
     "output_type": "display_data"
    }
   ],
   "source": [
    "plt.figure()\n",
    "plt.title(\"pso\")\n",
    "plt.plot([i for i in range(1000)],gtl,label = \"best generation\")\n",
    "plt.plot([i for i in range(1000)],btl,label = \"best record so far\")\n",
    "plt.xlabel(\"generation\")\n",
    "plt.ylabel(\"value\")\n",
    "plt.legend(loc = \"best\")\n",
    "plt.show()"
   ]
  }
 ],
 "metadata": {
  "kernelspec": {
   "display_name": "Python 3",
   "language": "python",
   "name": "python3"
  },
  "language_info": {
   "codemirror_mode": {
    "name": "ipython",
    "version": 3
   },
   "file_extension": ".py",
   "mimetype": "text/x-python",
   "name": "python",
   "nbconvert_exporter": "python",
   "pygments_lexer": "ipython3",
   "version": "3.8.8"
  }
 },
 "nbformat": 4,
 "nbformat_minor": 2
}
